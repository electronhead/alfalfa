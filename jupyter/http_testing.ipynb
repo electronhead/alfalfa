{
 "metadata": {
  "language_info": {
   "codemirror_mode": {
    "name": "ipython",
    "version": 3
   },
   "file_extension": ".py",
   "mimetype": "text/x-python",
   "name": "python",
   "nbconvert_exporter": "python",
   "pygments_lexer": "ipython3",
   "version": "3.9.0-final"
  },
  "orig_nbformat": 2,
  "kernelspec": {
   "name": "python3",
   "display_name": "Python 3",
   "language": "python"
  }
 },
 "nbformat": 4,
 "nbformat_minor": 2,
 "cells": [
  {
   "source": [
    "pip install pip install --force-reinstall ../whendo/dist/whendo-0.0.1-py3-none-any.whl"
   ],
   "cell_type": "markdown",
   "metadata": {}
  },
  {
   "cell_type": "code",
   "execution_count": null,
   "metadata": {},
   "outputs": [],
   "source": [
    "from pydantic import BaseModel\n",
    "from datetime import time\n",
    "import requests\n",
    "from whendo.core.scheduler import TimelyScheduler, RandomlyScheduler\n",
    "import alfalfa.gpio_action as gpio_x\n",
    "from alfalfa.action import AlfalfaAction\n",
    "from whendo.core.util import PP, TimeUnit, Dirs\n",
    "\n",
    "prefix = \"http://127.0.0.1:5000\"\n",
    "prefix = \"http://192.168.0.45:8000\"\n",
    "prefix = \"http://locahost:8000\"\n",
    "prefix = \"http://localhost:8000\"\n",
    "def get(path:str):\n",
    "    cmd = f\"{prefix}{path}\"\n",
    "    response = requests.get(cmd)\n",
    "    return response.json()\n",
    "def put(path:str, data:BaseModel):\n",
    "    cmd = f\"{prefix}{path}\"\n",
    "    response = requests.put(cmd, data.json())\n",
    "    PP.pprint(response.json())\n",
    "def put_as_is(path:str, data:None):\n",
    "    cmd = f\"{prefix}{path}\"\n",
    "    response = requests.put(cmd, data)\n",
    "    PP.pprint(response.json())\n",
    "def delete(path:str):\n",
    "    cmd = f\"{prefix}{path}\"\n",
    "    response = requests.delete(cmd)\n",
    "    return response.json()\n",
    "output_dir = Dirs.output_dir()"
   ]
  },
  {
   "cell_type": "code",
   "execution_count": null,
   "metadata": {},
   "outputs": [],
   "source": [
    "Dirs.output_dir()"
   ]
  },
  {
   "cell_type": "code",
   "execution_count": null,
   "metadata": {},
   "outputs": [],
   "source": [
    "get('/mothership/clear')"
   ]
  },
  {
   "cell_type": "code",
   "execution_count": null,
   "metadata": {},
   "outputs": [],
   "source": [
    "morning, evening = time(6,0,0), time(18,0,0)\n",
    "get('/mothership/clear')\n",
    "put('/actions/green_on', gpio_x.SetPin(pin=27, on=True))\n",
    "put('/actions/green_off', gpio_x.SetPin(pin=27, on=False))\n",
    "put('/actions/green_toggle', gpio_x.TogglePin(pin=27))\n",
    "put('/actions/red_on', gpio_x.SetPin(pin=25, on=True))\n",
    "put('/actions/red_off', gpio_x.SetPin(pin=25, on=False))\n",
    "put('/actions/red_toggle', gpio_x.TogglePin(pin=25))\n",
    "put('/actions/gpio_clear', gpio_x.Cleanup())\n",
    "\n",
    "put('/actions/alfalfa1', AlfalfaAction(color='blue', file=f\"{output_dir}alfalfa1.txt\", xtra={'words':'stay tuned for alfalfa news at 11'}))\n",
    "put('/actions/alfalfa2', AlfalfaAction(color='black', file=f\"{output_dir}alfalfa2.txt\", xtra={'words':'stay tuned for alfalfa news at 23'}))\n",
    "\n",
    "put('/schedulers/randomly_soon', RandomlyScheduler(time_unit=TimeUnit.second, low=2, high=5))\n",
    "put('/schedulers/timely_every_second', TimelyScheduler(interval=1))\n",
    "put('/schedulers/timely_every_second_daytime', TimelyScheduler(start=morning, stop=evening, interval=1))\n",
    "put('/schedulers/timely_every_second_nighttime', TimelyScheduler(start=evening, stop=morning, interval=1))\n",
    "put('/schedulers/timely_minute_at_00_sec', TimelyScheduler(interval=1, second=0))\n",
    "put('/schedulers/timely_minute_at_30_sec', TimelyScheduler(interval=1, second=30))\n",
    "\n",
    "get('/schedulers/randomly_soon/actions/red_toggle')\n",
    "get('/schedulers/timely_every_second/actions/green_toggle')\n",
    "get('/schedulers/timely_every_second_daytime/actions/alfalfa1')\n",
    "get('/schedulers/timely_every_second_nighttime/actions/alfalfa2')\n",
    "# get('/schedulers/timely_minute_at_00_sec/actions/green_on')\n",
    "# get('/schedulers/timely_minute_at_30_sec/actions/green_off')"
   ]
  },
  {
   "cell_type": "code",
   "execution_count": null,
   "metadata": {},
   "outputs": [],
   "source": [
    "get('/mothership/load')"
   ]
  },
  {
   "cell_type": "code",
   "execution_count": null,
   "metadata": {},
   "outputs": [],
   "source": [
    "get('/jobs/start')"
   ]
  },
  {
   "cell_type": "code",
   "execution_count": null,
   "metadata": {},
   "outputs": [],
   "source": [
    "get('/jobs/stop')"
   ]
  },
  {
   "cell_type": "code",
   "execution_count": null,
   "metadata": {},
   "outputs": [],
   "source": [
    "get('/jobs/count')"
   ]
  },
  {
   "cell_type": "code",
   "execution_count": null,
   "metadata": {},
   "outputs": [],
   "source": [
    "get('/actions/green_toggle/execute')"
   ]
  },
  {
   "cell_type": "code",
   "execution_count": null,
   "metadata": {},
   "outputs": [],
   "source": [
    "from whendo.core.mothership import Mothership\n",
    "m1 = get('/mothership/load')\n",
    "Mothership.instantiate_from_dict(m1)"
   ]
  }
 ]
}
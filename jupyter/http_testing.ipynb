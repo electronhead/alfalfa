{
 "metadata": {
  "language_info": {
   "codemirror_mode": {
    "name": "ipython",
    "version": 3
   },
   "file_extension": ".py",
   "mimetype": "text/x-python",
   "name": "python",
   "nbconvert_exporter": "python",
   "pygments_lexer": "ipython3",
   "version": "3.9.0-final"
  },
  "orig_nbformat": 2,
  "kernelspec": {
   "name": "python3",
   "display_name": "Python 3",
   "language": "python"
  }
 },
 "nbformat": 4,
 "nbformat_minor": 2,
 "cells": [
  {
   "source": [
    "pip install pip install --force-reinstall ../whendo/dist/whendo-0.0.1-py3-none-any.whl"
   ],
   "cell_type": "markdown",
   "metadata": {}
  },
  {
   "cell_type": "code",
   "execution_count": null,
   "metadata": {},
   "outputs": [],
   "source": [
    "from pydantic import BaseModel\n",
    "from datetime import time\n",
    "import requests\n",
    "import whendo.core.scheduler as sched_x\n",
    "import whendo.core.actions.logic_action as logic_x\n",
    "import whendo.core.actions.file_action as file_x\n",
    "from whendo.core.action import Action\n",
    "from whendo.core.util import PP, TimeUnit, Dirs\n",
    "import alfalfa.gpio_action as gpio_x\n",
    "from alfalfa.action import AlfalfaAction\n",
    "\n",
    "prefix = \"http://127.0.0.1:5000\"\n",
    "prefix = \"http://192.168.0.45:8000\"\n",
    "prefix = \"http://locahost:8000\"\n",
    "prefix = \"http://localhost:8000\"\n",
    "def get(path:str):\n",
    "    cmd = f\"{prefix}{path}\"\n",
    "    response = requests.get(cmd)\n",
    "    return response.json()\n",
    "def put(path:str, data:BaseModel):\n",
    "    cmd = f\"{prefix}{path}\"\n",
    "    response = requests.put(cmd, data.json())\n",
    "    PP.pprint(response.json())\n",
    "def put_as_is(path:str, data:None):\n",
    "    cmd = f\"{prefix}{path}\"\n",
    "    response = requests.put(cmd, data)\n",
    "    PP.pprint(response.json())\n",
    "def delete(path:str):\n",
    "    cmd = f\"{prefix}{path}\"\n",
    "    response = requests.delete(cmd)\n",
    "    return response.json()\n",
    "output_dir = Dirs.output_dir()"
   ]
  },
  {
   "cell_type": "code",
   "execution_count": null,
   "metadata": {},
   "outputs": [],
   "source": [
    "Dirs.output_dir()"
   ]
  },
  {
   "cell_type": "code",
   "execution_count": null,
   "metadata": {},
   "outputs": [],
   "source": [
    "get('/dispatcher/clear')"
   ]
  },
  {
   "cell_type": "code",
   "execution_count": null,
   "metadata": {},
   "outputs": [],
   "source": [
    "morning, evening = time(6,0,0), time(18,0,0)\n",
    "\n",
    "get('/dispatcher/clear')\n",
    "put('/actions/green_on', gpio_x.SetPin(pin=27, on=True))\n",
    "put('/actions/green_off', gpio_x.SetPin(pin=27, on=False))\n",
    "put('/actions/green_toggle', gpio_x.TogglePin(pin=27))\n",
    "put('/actions/red_on', gpio_x.SetPin(pin=25, on=True))\n",
    "put('/actions/red_off', gpio_x.SetPin(pin=25, on=False))\n",
    "put('/actions/red_toggle', gpio_x.TogglePin(pin=25))\n",
    "put('/actions/gpio_clear', gpio_x.Cleanup())\n",
    "\n",
    "green_toggle = get('/actions/green_toggle')\n",
    "red_toggle = gpio_x.TogglePin(**(get('/actions/red_toggle')))\n",
    "toggle_toggle = logic_x.ListAction(op_mode=logic_x.ListOpMode.ALL, action_list=[green_toggle, red_toggle])\n",
    "put('/actions/toggle_toggle', toggle_toggle)\n",
    "\n",
    "put('/actions/alfalfa1', AlfalfaAction(color='blue', file=f\"{output_dir}alfalfa1.txt\", xtra={'words':'stay tuned for alfalfa news at 11'}))\n",
    "put('/actions/alfalfa2', AlfalfaAction(color='black', file=f\"{output_dir}alfalfa2.txt\", xtra={'words':'stay tuned for alfalfa news at 23'}))\n",
    "\n",
    "put('/schedulers/randomly_soon', sched_x.RandomlyScheduler(time_unit=TimeUnit.second, low=2, high=5))\n",
    "put('/schedulers/timely_every_second', sched_x.TimelyScheduler(interval=1))\n",
    "put('/schedulers/timely_every_second_daytime', sched_x.TimelyScheduler(start=morning, stop=evening, interval=1))\n",
    "put('/schedulers/timely_every_second_nighttime', sched_x.TimelyScheduler(start=evening, stop=morning, interval=1))\n",
    "put('/schedulers/timely_minute_at_00_sec', sched_x.TimelyScheduler(interval=1, second=0))\n",
    "put('/schedulers/timely_minute_at_30_sec', sched_x.TimelyScheduler(interval=1, second=30))\n",
    "\n",
    "get('/schedulers/randomly_soon/actions/toggle_toggle')\n",
    "# get('/schedulers/randomly_soon/actions/red_toggle')\n",
    "# get('/schedulers/timely_every_second/actions/green_toggle')\n",
    "# get('/schedulers/timely_every_second_daytime/actions/alfalfa1')\n",
    "# get('/schedulers/timely_every_second_nighttime/actions/alfalfa2')\n",
    "# get('/schedulers/timely_minute_at_00_sec/actions/green_on')\n",
    "# get('/schedulers/timely_minute_at_30_sec/actions/green_off')"
   ]
  },
  {
   "cell_type": "code",
   "execution_count": null,
   "metadata": {},
   "outputs": [],
   "source": [
    "get('/dispatcher/load')"
   ]
  },
  {
   "cell_type": "code",
   "execution_count": null,
   "metadata": {},
   "outputs": [],
   "source": [
    "get('/jobs/start')"
   ]
  },
  {
   "cell_type": "code",
   "execution_count": null,
   "metadata": {},
   "outputs": [],
   "source": [
    "get('/jobs/stop')"
   ]
  },
  {
   "cell_type": "code",
   "execution_count": null,
   "metadata": {},
   "outputs": [],
   "source": [
    "get('/jobs/count')"
   ]
  },
  {
   "cell_type": "code",
   "execution_count": null,
   "metadata": {},
   "outputs": [],
   "source": [
    "get('/actions/green_toggle/execute')"
   ]
  },
  {
   "cell_type": "code",
   "execution_count": null,
   "metadata": {},
   "outputs": [],
   "source": [
    "get('/actions/toggle_toggle')"
   ]
  },
  {
   "cell_type": "code",
   "execution_count": null,
   "metadata": {},
   "outputs": [],
   "source": [
    "toggle_toggle, green_toggle"
   ]
  },
  {
   "cell_type": "code",
   "execution_count": null,
   "metadata": {},
   "outputs": [],
   "source": [
    "import whendo.core.util as util\n",
    "util.find_class(Action, {'op_mode': 'all', 'action_list': [{}, {}], 'exception_on_no_success': False})"
   ]
  },
  {
   "cell_type": "code",
   "execution_count": null,
   "metadata": {},
   "outputs": [],
   "source": [
    "import whendo.core.resolver as resolver\n",
    "resolver.resolve_action({'op_mode': 'all', 'action_list': [{'pin':25}, {'pin':27}], 'exception_on_no_success': False})"
   ]
  },
  {
   "cell_type": "code",
   "execution_count": null,
   "metadata": {},
   "outputs": [],
   "source": [
    "red_toggle = gpio_x.TogglePin(**(get('/actions/red_toggle')))"
   ]
  },
  {
   "cell_type": "code",
   "execution_count": null,
   "metadata": {},
   "outputs": [],
   "source": [
    "red_toggle"
   ]
  },
  {
   "cell_type": "code",
   "execution_count": null,
   "metadata": {},
   "outputs": [],
   "source": [
    "util.find_class(Action, {'pin':25})"
   ]
  },
  {
   "cell_type": "code",
   "execution_count": null,
   "metadata": {},
   "outputs": [],
   "source": [
    "put('/actions/red_toggle', red_toggle)"
   ]
  },
  {
   "cell_type": "code",
   "execution_count": null,
   "metadata": {},
   "outputs": [],
   "source": [
    "delete('/actions/red_toggle')"
   ]
  },
  {
   "cell_type": "code",
   "execution_count": null,
   "metadata": {},
   "outputs": [],
   "source": [
    "get('/actions/red_toggle')"
   ]
  },
  {
   "cell_type": "code",
   "execution_count": null,
   "metadata": {},
   "outputs": [],
   "source": [
    "get('/schedulers/randomly_soon')"
   ]
  },
  {
   "cell_type": "code",
   "execution_count": null,
   "metadata": {},
   "outputs": [],
   "source": []
  }
 ]
}